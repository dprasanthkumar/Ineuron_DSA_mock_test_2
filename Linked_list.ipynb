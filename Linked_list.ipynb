{
 "cells": [
  {
   "cell_type": "code",
   "execution_count": 1,
   "metadata": {},
   "outputs": [],
   "source": [
    "class ListNode:\n",
    "    def __init__(self, val=0, next=None):\n",
    "        self.val = val\n",
    "        self.next = next\n",
    "\n",
    "def add(l1, l2):\n",
    "    carry = 0\n",
    "    empty = ListNode()\n",
    "    current = empty\n",
    "\n",
    "    while l1 or l2:\n",
    "        x = l1.val if l1 else 0\n",
    "        y = l2.val if l2 else 0\n",
    "        _sum = x + y + carry\n",
    "        carry = _sum // 10\n",
    "        current.next = ListNode(_sum % 10)\n",
    "        current = current.next\n",
    "\n",
    "        if l1:\n",
    "            l1 = l1.next\n",
    "        if l2:\n",
    "            l2 = l2.next\n",
    "\n",
    "    if carry != 0:\n",
    "        current.next = ListNode(carry)\n",
    "\n",
    "    return empty.next\n"
   ]
  },
  {
   "cell_type": "code",
   "execution_count": 6,
   "metadata": {},
   "outputs": [
    {
     "name": "stdout",
     "output_type": "stream",
     "text": [
      "7 0 8 \n"
     ]
    }
   ],
   "source": [
    "l1 = ListNode(2)\n",
    "l1.next = ListNode(4)\n",
    "l1.next.next = ListNode(3)\n",
    "\n",
    "l2 = ListNode(5)\n",
    "l2.next = ListNode(6)\n",
    "l2.next.next = ListNode(4)\n",
    "\n",
    "result = add(l1, l2)\n",
    "while result:\n",
    "    print(result.val, end=\" \")\n",
    "    result = result.next\n",
    "\n",
    "print()"
   ]
  },
  {
   "cell_type": "code",
   "execution_count": null,
   "metadata": {},
   "outputs": [],
   "source": []
  }
 ],
 "metadata": {
  "kernelspec": {
   "display_name": "Python 3",
   "language": "python",
   "name": "python3"
  },
  "language_info": {
   "codemirror_mode": {
    "name": "ipython",
    "version": 3
   },
   "file_extension": ".py",
   "mimetype": "text/x-python",
   "name": "python",
   "nbconvert_exporter": "python",
   "pygments_lexer": "ipython3",
   "version": "3.10.4"
  },
  "orig_nbformat": 4
 },
 "nbformat": 4,
 "nbformat_minor": 2
}
